{
 "cells": [
  {
   "cell_type": "code",
   "execution_count": 22,
   "metadata": {},
   "outputs": [
    {
     "name": "stdout",
     "output_type": "stream",
     "text": [
      "Input matrix :  [[8.0011 7.9511 7.0011]\n",
      " [1.1199 5.1471 9.8974]\n",
      " [9.1251 0.1514 8.9898]]\n",
      "freq: [1 9 1]\n",
      "======\n",
      "0.06268727824375321   0.7430784383426243   0.030698218433596488\n",
      "-0.3211602329573032   0.7535665080978428   0.371384155347898\n",
      "-0.47590804231033507   0.4873999881373568   0.5127150409849699\n",
      "-0.40526919917746834   0.3644175588122296   0.4518025739318002\n",
      "-0.3172374626838834   0.40638108720154137   0.37301585891445443\n",
      "-0.3035755564934092   0.4699963472408151   0.3599474396521918\n",
      "-0.32954802323788596   0.4831798359041138   0.3828156706750499\n",
      "-0.3461555136733674   0.46589331553872876   0.39781710016525873\n",
      "-0.34412317054368546   0.4533488031018815   0.39619727871732197\n",
      "-0.3371596667776992   0.45403394809545594   0.3900038861063135\n",
      "-0.3347830099748431   0.4589133191750394   0.3878216287450338\n",
      "-0.3362572997517278   0.4608480075932915   0.3891022330185245\n",
      "Duration: 0:00:00.006949\n"
     ]
    }
   ],
   "source": [
    "import numpy as np\n",
    "from datetime import datetime\n",
    "\n",
    "start_time = datetime.now()\n",
    "\n",
    "def checkDiagnolDominant(a):\n",
    "    # Find diagonal coefficients\n",
    "    diag = np.diag(np.abs(a)) \n",
    "\n",
    "    # Find row sum without diagonal\n",
    "    off_diag = np.sum(np.abs(a), axis=1) - diag \n",
    "\n",
    "    if np.all(diag > off_diag):\n",
    "        print('matrix is diagonally dominant')\n",
    "        return True\n",
    "    else:\n",
    "        print('NOT diagonally dominant')\n",
    "        return False\n",
    "    \n",
    "def gauss_seidel(A, b, tolerance=0.01, max_iterations=10000):\n",
    "    \n",
    "    x = np.zeros_like(b, dtype=np.float)\n",
    "    \n",
    "    #if checkDiagnolDominant(a) == False:\n",
    "    #     return False\n",
    "    \n",
    "    #Iterate\n",
    "    for k in range(max_iterations):\n",
    "        \n",
    "        x_old  = x.copy()\n",
    "        \n",
    "        #Loop over rows\n",
    "        for i in range(A.shape[0]):\n",
    "            x[i] = (b[i] - np.dot(A[i,:i], x[:i]) - np.dot(A[i,(i+1):], x_old[(i+1):])) / A[i ,i]\n",
    "            \n",
    "        print(x[0],\" \", x[1], \" \", x[2])\n",
    "            \n",
    "        #Stop condition \n",
    "        if np.linalg.norm(x - x_old, ord=np.inf) / np.linalg.norm(x, ord=np.inf) < tolerance:\n",
    "            break\n",
    "            \n",
    "    return x\n",
    "x = [0, 0, 0]                        \n",
    "#a = np.array([[4, 1, 2],[3, 5, 1],[1, 1, 3]])\n",
    "#b = np.array([4,7,3])\n",
    "#a = np.array([[8.1591, 2.9511,4.1591],[0.1012,9.1471,1.8974],[5.1251,2.1514,8.9898]])\n",
    "#b = np.array([8,5,2])\n",
    "#a = np.array([[8,5,2],[5,8,2],[2,5,8]])\n",
    "#b = np.array([8,5,2])\n",
    "a = np.array([[8.0011, 7.9511, 7.0011],[1.1199,5.1471,9.8974],[9.1251,0.1514,8.9898]])\n",
    "b = np.array([1,9,1])\n",
    "#a = np.random.uniform(0, 9,  size=(3,3))\n",
    "#a = a*10000//1/10000\n",
    "#b = np.random.uniform(0, 9,  size=(3,1))\n",
    "#b = b*10000//1/10000\n",
    "print(\"Input matrix : \",a)\n",
    "print(\"freq:\", b)\n",
    "print(\"======\")\n",
    "#generate diagnolly dominant\n",
    "for i in range(a.shape[0]):\n",
    "    d = a[i][i]\n",
    "    a[i][i] = sum(a[i]) - d + 1\n",
    "gauss_seidel(a,b)\n",
    "import time\n",
    "end_time = datetime.now()\n",
    "duration = end_time - start_time\n",
    "print('Duration: {}'.format(end_time - start_time))"
   ]
  },
  {
   "cell_type": "code",
   "execution_count": null,
   "metadata": {},
   "outputs": [],
   "source": []
  },
  {
   "cell_type": "code",
   "execution_count": null,
   "metadata": {},
   "outputs": [],
   "source": []
  },
  {
   "cell_type": "code",
   "execution_count": null,
   "metadata": {},
   "outputs": [],
   "source": []
  }
 ],
 "metadata": {
  "kernelspec": {
   "display_name": "Python 3",
   "language": "python",
   "name": "python3"
  },
  "language_info": {
   "codemirror_mode": {
    "name": "ipython",
    "version": 3
   },
   "file_extension": ".py",
   "mimetype": "text/x-python",
   "name": "python",
   "nbconvert_exporter": "python",
   "pygments_lexer": "ipython3",
   "version": "3.7.4"
  }
 },
 "nbformat": 4,
 "nbformat_minor": 2
}
