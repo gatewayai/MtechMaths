{
 "cells": [
  {
   "cell_type": "code",
   "execution_count": 84,
   "metadata": {},
   "outputs": [],
   "source": [
    "import numpy as np\n",
    "from datetime import datetime\n",
    "start_time = datetime.now()"
   ]
  },
  {
   "cell_type": "code",
   "execution_count": 85,
   "metadata": {},
   "outputs": [],
   "source": [
    "def jacobi(A, b, tolerance=1e-3, max_iterations=10000):\n",
    "    \n",
    "    x = np.zeros_like(b, dtype=np.float)\n",
    "    #A=np.array((A),dtype=float)\n",
    "    #b=np.array((b),dtype=float)\n",
    "    \n",
    "    T = A - np.diag(np.diagonal(A))\n",
    "    \n",
    "    if checkDiagnolDominant(a) == False:\n",
    "           return False\n",
    "    \n",
    "    for k in range(max_iterations):\n",
    "        \n",
    "        x_old  = x.copy()\n",
    "        \n",
    "        x[:] = (b - np.dot(T, x)) / np.diagonal(A)\n",
    "        \n",
    "       \n",
    "        \n",
    "        if np.linalg.norm(x - x_old, ord=np.inf) / np.linalg.norm(x, ord=np.inf) < tolerance:\n",
    "            break\n",
    "        print(x)    \n",
    "    return x"
   ]
  },
  {
   "cell_type": "code",
   "execution_count": 86,
   "metadata": {},
   "outputs": [],
   "source": [
    "def checkDiagnolDominant(a):\n",
    "    # Find diagonal coefficients\n",
    "    diag = np.diag(np.abs(a)) \n",
    "\n",
    "    # Find row sum without diagonal\n",
    "    off_diag = np.sum(np.abs(a), axis=1) - diag \n",
    "\n",
    "    if np.all(diag > off_diag):\n",
    "        print('matrix is diagonally dominant')\n",
    "        return True\n",
    "    else:\n",
    "        print('NOT diagonally dominant')\n",
    "        return False"
   ]
  },
  {
   "cell_type": "code",
   "execution_count": 89,
   "metadata": {},
   "outputs": [
    {
     "name": "stdout",
     "output_type": "stream",
     "text": [
      "Input matrix :  [[8.0011 7.9511 7.0011]\n",
      " [1.1199 5.1471 9.8974]\n",
      " [9.1251 0.1514 8.9898]]\n",
      "freq: [1 9 1]\n",
      "======\n",
      "Input matrix :  [[8.0011 7.9511 7.0011]\n",
      " [1.1199 5.1471 9.8974]\n",
      " [9.1251 0.1514 8.9898]]\n",
      "freq: [1 9 1]\n",
      "======\n",
      "NOT diagonally dominant\n",
      "Duration: 0:01:22.030686\n"
     ]
    }
   ],
   "source": [
    "x = [0, 0, 0]                        \n",
    "a = np.array([[8.0011, 7.9511, 7.0011],[1.1199,5.1471,9.8974],[9.1251,0.1514,8.9898]])\n",
    "b = np.array([1,9,1])\n",
    "#a = np.array([[8,5,2],[5,8,2],[2,5,8]])\n",
    "#b = np.array([8,5,2])\n",
    "\n",
    "\n",
    "print(\"Input matrix : \",a)\n",
    "print(\"freq:\", b)\n",
    "print(\"======\")\n",
    "#make existing diagnolly dominant : only use when using random generator and not static matrix\n",
    "#for i in range(a.shape[0]):\n",
    "#    d = a[i][i]\n",
    "#    a[i][i] = sum(a[i]) - d + 1\n",
    "print(\"Input matrix : \",a)\n",
    "print(\"freq:\", b)\n",
    "print(\"======\")    \n",
    "jacobi(a,b)\n",
    "end_time = datetime.now()\n",
    "print('Duration: {}'.format(end_time - start_time))"
   ]
  },
  {
   "cell_type": "code",
   "execution_count": null,
   "metadata": {},
   "outputs": [],
   "source": []
  }
 ],
 "metadata": {
  "kernelspec": {
   "display_name": "Python 3",
   "language": "python",
   "name": "python3"
  },
  "language_info": {
   "codemirror_mode": {
    "name": "ipython",
    "version": 3
   },
   "file_extension": ".py",
   "mimetype": "text/x-python",
   "name": "python",
   "nbconvert_exporter": "python",
   "pygments_lexer": "ipython3",
   "version": "3.7.4"
  }
 },
 "nbformat": 4,
 "nbformat_minor": 2
}
